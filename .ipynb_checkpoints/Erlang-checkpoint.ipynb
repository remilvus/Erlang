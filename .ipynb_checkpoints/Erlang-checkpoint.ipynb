{
 "cells": [
  {
   "cell_type": "code",
   "execution_count": 1,
   "metadata": {},
   "outputs": [
    {
     "data": {
      "text/plain": [
       "2\n"
      ]
     },
     "execution_count": 1,
     "metadata": {},
     "output_type": "execute_result"
    }
   ],
   "source": [
    "1+1."
   ]
  },
  {
   "cell_type": "code",
   "execution_count": 4,
   "metadata": {},
   "outputs": [
    {
     "data": {
      "text/plain": [
       "true\n"
      ]
     },
     "execution_count": 4,
     "metadata": {},
     "output_type": "execute_result"
    }
   ],
   "source": [
    "aaa==aaa."
   ]
  },
  {
   "cell_type": "code",
   "execution_count": 5,
   "metadata": {},
   "outputs": [
    {
     "data": {
      "text/plain": [
       "true\n"
      ]
     },
     "execution_count": 5,
     "metadata": {},
     "output_type": "execute_result"
    }
   ],
   "source": [
    "is_atom(false)."
   ]
  },
  {
   "cell_type": "code",
   "execution_count": 16,
   "metadata": {},
   "outputs": [
    {
     "data": {
      "text/plain": [
       "true\n"
      ]
     },
     "execution_count": 16,
     "metadata": {},
     "output_type": "execute_result"
    }
   ],
   "source": [
    "true and true. %gorliwy"
   ]
  },
  {
   "cell_type": "code",
   "execution_count": 17,
   "metadata": {},
   "outputs": [
    {
     "data": {
      "text/plain": [
       "true\n"
      ]
     },
     "execution_count": 17,
     "metadata": {},
     "output_type": "execute_result"
    }
   ],
   "source": [
    "true andalso true. %leniwy"
   ]
  },
  {
   "cell_type": "code",
   "execution_count": 17,
   "metadata": {},
   "outputs": [
    {
     "ename": "error",
     "evalue": "{badmatch,{error,{1,erl_parse,[\"syntax error before: \",[]]}}}",
     "output_type": "error",
     "traceback": [
      "Error: {error,{badmatch,{error,{1,erl_parse,[\"syntax error before: \",[]]}}}}",
      "\n    ierl_backend_erlang:evaluate/2 (src/ierl_backend_erlang.erl:118)\n    ierl_backend_erlang:execute/3 (src/ierl_backend_erlang.erl:66)\n    jup_kernel_protocol:process_exec/5 (/home/benedikt/git/ierl/deps/jupyter/src/jup_kernel_protocol.erl:104)\n    jup_kernel_worker:exec_loop/4 (/home/benedikt/git/ierl/deps/jupyter/src/jup_kernel_worker.erl:187)"
     ]
    }
   ],
   "source": [
    "1 = 4"
   ]
  },
  {
   "cell_type": "code",
   "execution_count": 17,
   "metadata": {},
   "outputs": [
    {
     "ename": "error",
     "evalue": "badarith",
     "output_type": "error",
     "traceback": [
      "Error: {error,badarith}",
      "\n    erlang:'rem'/[5.0,3] (undefined:undefined)\n    erl_eval:do_apply/6 (erl_eval.erl:680)\n    ierl_backend_erlang:evaluate/2 (src/ierl_backend_erlang.erl:127)\n    ierl_backend_erlang:execute/3 (src/ierl_backend_erlang.erl:66)\n    jup_kernel_protocol:process_exec/5 (/home/benedikt/git/ierl/deps/jupyter/src/jup_kernel_protocol.erl:104)\n    jup_kernel_worker:exec_loop/4 (/home/benedikt/git/ierl/deps/jupyter/src/jup_kernel_worker.erl:187)"
     ]
    }
   ],
   "source": [
    "5.0 rem 3."
   ]
  },
  {
   "cell_type": "code",
   "execution_count": 18,
   "metadata": {},
   "outputs": [
    {
     "data": {
      "text/plain": [
       "2\n"
      ]
     },
     "execution_count": 18,
     "metadata": {},
     "output_type": "execute_result"
    }
   ],
   "source": [
    "trunc(5.0) rem 3."
   ]
  },
  {
   "cell_type": "code",
   "execution_count": 19,
   "metadata": {},
   "outputs": [
    {
     "data": {
      "text/plain": [
       "2\n"
      ]
     },
     "execution_count": 19,
     "metadata": {},
     "output_type": "execute_result"
    }
   ],
   "source": [
    "2 band 3. % operatory bitowy"
   ]
  },
  {
   "cell_type": "code",
   "execution_count": 21,
   "metadata": {},
   "outputs": [
    {
     "data": {
      "text/plain": [
       "{a,b,1,zupa}\n"
      ]
     },
     "execution_count": 21,
     "metadata": {},
     "output_type": "execute_result"
    }
   ],
   "source": [
    "{a, b, 1, 'zupa'}. % krotka"
   ]
  },
  {
   "cell_type": "code",
   "execution_count": 22,
   "metadata": {},
   "outputs": [
    {
     "data": {
      "text/plain": [
       "[a,b,1,zupa]\n"
      ]
     },
     "execution_count": 22,
     "metadata": {},
     "output_type": "execute_result"
    }
   ],
   "source": [
    "[a, b, 1, 'zupa']. % lista"
   ]
  },
  {
   "cell_type": "code",
   "execution_count": 24,
   "metadata": {},
   "outputs": [
    {
     "data": {
      "text/plain": [
       "[a,b,1,zupa]\n"
      ]
     },
     "execution_count": 24,
     "metadata": {},
     "output_type": "execute_result"
    }
   ],
   "source": [
    "[a | [b, 1, 'zupa' | []]]. % | pipe"
   ]
  },
  {
   "cell_type": "code",
   "execution_count": 25,
   "metadata": {},
   "outputs": [
    {
     "data": {
      "text/plain": [
       "[1,2,3,b,c]\n"
      ]
     },
     "execution_count": 25,
     "metadata": {},
     "output_type": "execute_result"
    }
   ],
   "source": [
    "[1,2,3] ++ [b,c]."
   ]
  },
  {
   "cell_type": "code",
   "execution_count": 32,
   "metadata": {},
   "outputs": [
    {
     "data": {
      "text/plain": [
       "[d,1]\n"
      ]
     },
     "execution_count": 32,
     "metadata": {},
     "output_type": "execute_result"
    }
   ],
   "source": [
    "[1,2,3,d,1,2] -- [1,c,2,2,3]."
   ]
  },
  {
   "cell_type": "code",
   "execution_count": 33,
   "metadata": {},
   "outputs": [
    {
     "data": {
      "text/plain": [
       "\"wzium\"\n"
      ]
     },
     "execution_count": 33,
     "metadata": {},
     "output_type": "execute_result"
    }
   ],
   "source": [
    "\"wzium\"."
   ]
  },
  {
   "cell_type": "code",
   "execution_count": 34,
   "metadata": {},
   "outputs": [
    {
     "data": {
      "text/plain": [
       "\"B{,\"\n"
      ]
     },
     "execution_count": 34,
     "metadata": {},
     "output_type": "execute_result"
    }
   ],
   "source": [
    "[66,123,44].  % string i lista to to samo"
   ]
  },
  {
   "cell_type": "code",
   "execution_count": 35,
   "metadata": {},
   "outputs": [
    {
     "data": {
      "text/plain": [
       "true\n"
      ]
     },
     "execution_count": 35,
     "metadata": {},
     "output_type": "execute_result"
    }
   ],
   "source": [
    "is_list(\"ala\")."
   ]
  },
  {
   "cell_type": "code",
   "execution_count": 37,
   "metadata": {},
   "outputs": [
    {
     "data": {
      "text/plain": [
       "[\"abc\"|aaa]\n"
      ]
     },
     "execution_count": 37,
     "metadata": {},
     "output_type": "execute_result"
    }
   ],
   "source": [
    "[\"abc\" | aaa]."
   ]
  },
  {
   "cell_type": "code",
   "execution_count": 38,
   "metadata": {},
   "outputs": [
    {
     "data": {
      "text/plain": [
       "4\n"
      ]
     },
     "execution_count": 38,
     "metadata": {},
     "output_type": "execute_result"
    }
   ],
   "source": [
    "Abc = 4."
   ]
  },
  {
   "cell_type": "code",
   "execution_count": 39,
   "metadata": {},
   "outputs": [
    {
     "ename": "error",
     "evalue": "{badmatch,5}",
     "output_type": "error",
     "traceback": [
      "Error: {error,{badmatch,5}}",
      "\n    erl_eval:expr/5 (erl_eval.erl:453)\n    ierl_backend_erlang:evaluate/2 (src/ierl_backend_erlang.erl:127)\n    ierl_backend_erlang:execute/3 (src/ierl_backend_erlang.erl:66)\n    jup_kernel_protocol:process_exec/5 (/home/benedikt/git/ierl/deps/jupyter/src/jup_kernel_protocol.erl:104)\n    jup_kernel_worker:exec_loop/4 (/home/benedikt/git/ierl/deps/jupyter/src/jup_kernel_worker.erl:187)"
     ]
    }
   ],
   "source": [
    "Abc = 5."
   ]
  },
  {
   "cell_type": "code",
   "execution_count": 40,
   "metadata": {},
   "outputs": [
    {
     "data": {
      "text/plain": [
       "{1,2}\n"
      ]
     },
     "execution_count": 40,
     "metadata": {},
     "output_type": "execute_result"
    }
   ],
   "source": [
    "{C, D} = {1, 2}."
   ]
  },
  {
   "cell_type": "code",
   "execution_count": 40,
   "metadata": {},
   "outputs": [
    {
     "ename": "error",
     "evalue": "{badmatch,{1,3}}",
     "output_type": "error",
     "traceback": [
      "Error: {error,{badmatch,{1,3}}}",
      "\n    erl_eval:expr/5 (erl_eval.erl:453)\n    ierl_backend_erlang:evaluate/2 (src/ierl_backend_erlang.erl:127)\n    ierl_backend_erlang:execute/3 (src/ierl_backend_erlang.erl:66)\n    jup_kernel_protocol:process_exec/5 (/home/benedikt/git/ierl/deps/jupyter/src/jup_kernel_protocol.erl:104)\n    jup_kernel_worker:exec_loop/4 (/home/benedikt/git/ierl/deps/jupyter/src/jup_kernel_worker.erl:187)"
     ]
    }
   ],
   "source": [
    "{C, D} = {1, 3}."
   ]
  },
  {
   "cell_type": "code",
   "execution_count": 41,
   "metadata": {},
   "outputs": [
    {
     "data": {
      "text/plain": [
       "{1,3}\n"
      ]
     },
     "execution_count": 41,
     "metadata": {},
     "output_type": "execute_result"
    }
   ],
   "source": [
    "{C, _} = {1, 3}."
   ]
  },
  {
   "cell_type": "code",
   "execution_count": 42,
   "metadata": {},
   "outputs": [
    {
     "name": "stdout",
     "output_type": "stream",
     "text": [
      "Hello Za Warudo"
     ]
    },
    {
     "data": {
      "text/plain": [
       "ok\n"
      ]
     },
     "execution_count": 42,
     "metadata": {},
     "output_type": "execute_result"
    }
   ],
   "source": [
    "io:format(\"Hello Za Warudo\"). % function call from module io"
   ]
  },
  {
   "cell_type": "code",
   "execution_count": 43,
   "metadata": {},
   "outputs": [
    {
     "data": {
      "text/plain": [
       "{module,volumeCalc}\n"
      ]
     },
     "execution_count": 43,
     "metadata": {},
     "output_type": "execute_result"
    }
   ],
   "source": []
  },
  {
   "cell_type": "markdown",
   "metadata": {},
   "source": [
    "# kartkowka\n",
    "- podstawowe typy (int, float, atom)\n",
    "- co definiuje ktora klauzula funkcji sie wykona? pattern matching\n",
    "- co to jest reukrencja ogonowa i jaka daje przewage nad zwykla?\n",
    "- `{A, B, A}` co mozna do takiej krotki przypisac, aby erlang nie spadl z rowerka\n",
    "\n",
    "$\\int_{Garek}^{Boryczko}xdx$\n",
    "\n",
    "http://home.agh.edu.pl/~wojturek/dokuwiki/doku.php?id=student:erlang:start"
   ]
  },
  {
   "cell_type": "code",
   "execution_count": null,
   "metadata": {},
   "outputs": [],
   "source": []
  }
 ],
 "metadata": {
  "kernelspec": {
   "display_name": "erlang (erlang)",
   "language": "erlang",
   "name": "erlang"
  },
  "language_info": {
   "file_extension": ".erl",
   "name": "erlang",
   "version": "22.2.7"
  }
 },
 "nbformat": 4,
 "nbformat_minor": 2
}
